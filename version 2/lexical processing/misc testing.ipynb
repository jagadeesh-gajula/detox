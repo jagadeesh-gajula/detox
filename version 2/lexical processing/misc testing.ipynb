{
 "cells": [
  {
   "cell_type": "code",
   "execution_count": 25,
   "metadata": {
    "scrolled": false
   },
   "outputs": [],
   "source": [
    "hosts = open('C:\\Windows\\System32\\Drivers\\etc\\hosts','r')\n",
    "for line in hosts:\n",
    "        print(line)\n",
    "    \n",
    "hosts.close()\n",
    "        \n",
    "        "
   ]
  },
  {
   "cell_type": "code",
   "execution_count": 8,
   "metadata": {},
   "outputs": [],
   "source": [
    "# this code actually works please dont touch\n",
    "from multiprocessing import Process\n",
    "import random\n",
    "import time\n",
    "\n",
    "def some_function(first, last):\n",
    "    time.sleep(random.randint(1, 3))\n",
    "    print (first, last)\n",
    "\n",
    "processes = []\n",
    "\n",
    "for m in range(1,16):\n",
    "   n = m + 1\n",
    "   p = Process(target=some_function, args=(m, n))\n",
    "   p.start()\n",
    "   processes.append(p)\n",
    "\n",
    "for p in processes:\n",
    "   p.join()"
   ]
  }
 ],
 "metadata": {
  "kernelspec": {
   "display_name": "Python 3",
   "language": "python",
   "name": "python3"
  },
  "language_info": {
   "codemirror_mode": {
    "name": "ipython",
    "version": 3
   },
   "file_extension": ".py",
   "mimetype": "text/x-python",
   "name": "python",
   "nbconvert_exporter": "python",
   "pygments_lexer": "ipython3",
   "version": "3.7.4"
  }
 },
 "nbformat": 4,
 "nbformat_minor": 2
}
