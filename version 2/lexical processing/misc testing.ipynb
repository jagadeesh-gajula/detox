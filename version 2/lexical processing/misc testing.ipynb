{
 "cells": [
  {
   "cell_type": "code",
   "execution_count": 25,
   "metadata": {
    "scrolled": false
   },
   "outputs": [],
   "source": [
    "hosts = open('C:\\Windows\\System32\\Drivers\\etc\\hosts','r')\n",
    "for line in hosts:\n",
    "        print(line)\n",
    "    \n",
    "hosts.close()\n",
    "        \n",
    "        "
   ]
  },
  {
   "cell_type": "code",
   "execution_count": 2,
   "metadata": {},
   "outputs": [],
   "source": [
    "# this code actually works please dont touch\n",
    "from multiprocessing import Process\n",
    "\n",
    "def some_function():\n",
    "        print(\"this is nothing\")\n",
    "    \n",
    "processes = []\n",
    "\n",
    "for i in range(5):\n",
    "    p= Process(target=some_function)\n",
    "    p.start()\n",
    "\n",
    "\n"
   ]
  }
 ],
 "metadata": {
  "kernelspec": {
   "display_name": "Python 3",
   "language": "python",
   "name": "python3"
  },
  "language_info": {
   "codemirror_mode": {
    "name": "ipython",
    "version": 3
   },
   "file_extension": ".py",
   "mimetype": "text/x-python",
   "name": "python",
   "nbconvert_exporter": "python",
   "pygments_lexer": "ipython3",
   "version": "3.7.4"
  }
 },
 "nbformat": 4,
 "nbformat_minor": 2
}
