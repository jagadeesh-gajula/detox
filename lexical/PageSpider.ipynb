{
 "cells": [
  {
   "cell_type": "code",
   "execution_count": 1,
   "metadata": {
    "collapsed": true
   },
   "outputs": [],
   "source": [
    "#importing all the libaries\n",
    "import requests\n",
    "from bs4 import BeautifulSoup\n",
    "from pprint import PrettyPrinter\n",
    "import pandas as pd\n"
   ]
  },
  {
   "cell_type": "code",
   "execution_count": 2,
   "metadata": {
    "collapsed": false
   },
   "outputs": [],
   "source": [
    "#importing all the datasets required for application\n",
    "data=requests.get('http://facebook.com')\n",
    "data=data.text\n",
    "data=BeautifulSoup(data,'lxml')\n",
    "\n",
    "df=pd.read_csv('hist_data.csv',encoding = \"cp1252\")"
   ]
  },
  {
   "cell_type": "code",
   "execution_count": 17,
   "metadata": {
    "collapsed": false
   },
   "outputs": [
    {
     "name": "stdout",
     "output_type": "stream",
     "text": [
      "https://www.google.com >>>>>>>>>>>>>>>>>>>>>>>>>>>>>>>>>>>>>>>>\n",
      "{'© 2019 - '}\n",
      "http://google.com >>>>>>>>>>>>>>>>>>>>>>>>>>>>>>>>>>>>>>>>\n",
      "{'© 2019 - '}\n",
      "http://www.google.com >>>>>>>>>>>>>>>>>>>>>>>>>>>>>>>>>>>>>>>>\n",
      "{'© 2019 - '}\n",
      "https://www.google.com >>>>>>>>>>>>>>>>>>>>>>>>>>>>>>>>>>>>>>>>\n",
      "{'© 2019 - '}\n",
      "https://onlineadmission.ignou.ac.in >>>>>>>>>>>>>>>>>>>>>>>>>>>>>>>>>>>>>>>>\n",
      "{'['}\n",
      "http://www.ignou.ac.in >>>>>>>>>>>>>>>>>>>>>>>>>>>>>>>>>>>>>>>>\n",
      "{'', 'ssc@ignou.ac.in', 'Books &amp; Assignment: 2957200', '[Updated on 04-Oct-2019]', '\\r\\nOnline Admissons: 29572964', '29533870', '© 2019 Indira Gandhi National Open University.', '29572514'}\n",
      "http://www.ignou.ac.in >>>>>>>>>>>>>>>>>>>>>>>>>>>>>>>>>>>>>>>>\n",
      "{'', 'ssc@ignou.ac.in', 'Books &amp; Assignment: 2957200', '[Updated on 04-Oct-2019]', '\\r\\nOnline Admissons: 29572964', '29533870', '© 2019 Indira Gandhi National Open University.', '29572514'}\n",
      "https://www.google.com >>>>>>>>>>>>>>>>>>>>>>>>>>>>>>>>>>>>>>>>\n",
      "{'© 2019 - '}\n",
      "https://learn.upgrad.com >>>>>>>>>>>>>>>>>>>>>>>>>>>>>>>>>>>>>>>>\n",
      "{'Something went wrong. Please reload.'}\n",
      "https://learn.upgrad.com >>>>>>>>>>>>>>>>>>>>>>>>>>>>>>>>>>>>>>>>\n",
      "{'Something went wrong. Please reload.'}\n"
     ]
    }
   ],
   "source": [
    "#ths clean function will remove all the noncense from the data\n",
    "# how ever we need to process NLTK before fed into model\n",
    "\n",
    "def clean(url):\n",
    "        seq=[]\n",
    "        data=requests.get(str(url))\n",
    "        if data.status_code != 200:\n",
    "            print(\"request failed code: \",data.request)\n",
    "        data=data.text\n",
    "        data=BeautifulSoup(data,'lxml')\n",
    "        string=data.find_all('p')\n",
    "        string=str(string)\n",
    "        string=string.split(',')\n",
    "        for i in string:\n",
    "            word=i.find('>')\n",
    "            cleaned=i[word+1:]\n",
    "            end=cleaned.find('<')\n",
    "            text=cleaned[:end]\n",
    "            seq.append(text)\n",
    "        print(set(seq))\n",
    "        \n",
    "        \n",
    "for link in range(10):\n",
    "    url=hi=df.iloc[[link],[0]].values[0][0]\n",
    "    print(url,\">>>>>>>>>>>>>>>>>>>>>>>>>>>>>>>>>>>>>>>>\")\n",
    "    clean(url)"
   ]
  }
 ],
 "metadata": {
  "anaconda-cloud": {},
  "kernelspec": {
   "display_name": "Python [conda root]",
   "language": "python",
   "name": "conda-root-py"
  },
  "language_info": {
   "codemirror_mode": {
    "name": "ipython",
    "version": 3
   },
   "file_extension": ".py",
   "mimetype": "text/x-python",
   "name": "python",
   "nbconvert_exporter": "python",
   "pygments_lexer": "ipython3",
   "version": "3.5.2"
  }
 },
 "nbformat": 4,
 "nbformat_minor": 1
}
