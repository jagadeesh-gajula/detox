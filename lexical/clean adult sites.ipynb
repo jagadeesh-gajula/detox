{
 "cells": [
  {
   "cell_type": "code",
   "execution_count": 58,
   "metadata": {
    "collapsed": false
   },
   "outputs": [],
   "source": [
    "#importing library\n",
    "import pandas as pd\n",
    "\n",
    "#importing Dataset\n",
    "df=pd.read_csv('headless_pornsites_list.csv')\n",
    "\n",
    "#renaming columns\n",
    "df.columns=(['sites'])\n",
    "\n",
    "#Selecting Unique values\n",
    "df=df.sites.unique()\n",
    "\n",
    "#creating dataframe from unique selected \n",
    "df=pd.DataFrame(df)\n",
    "df.columns=(['sites'])\n",
    "\n",
    "#creating function to add header\n",
    "def header(url):\n",
    "    return 'http://'+url\n",
    "\n",
    "#adding http header to all urls\n",
    "df=df.sites.apply(lambda url:header(url))\n",
    "\n",
    "#creating dataframe from applied and cleaned sites\n",
    "df=pd.DataFrame(df)\n",
    "\n",
    "#Creating csv file\n",
    "df.to_csv(\"adult.csv\",index=None)"
   ]
  }
 ],
 "metadata": {
  "anaconda-cloud": {},
  "kernelspec": {
   "display_name": "Python [conda root]",
   "language": "python",
   "name": "conda-root-py"
  },
  "language_info": {
   "codemirror_mode": {
    "name": "ipython",
    "version": 3
   },
   "file_extension": ".py",
   "mimetype": "text/x-python",
   "name": "python",
   "nbconvert_exporter": "python",
   "pygments_lexer": "ipython3",
   "version": "3.5.2"
  }
 },
 "nbformat": 4,
 "nbformat_minor": 1
}
