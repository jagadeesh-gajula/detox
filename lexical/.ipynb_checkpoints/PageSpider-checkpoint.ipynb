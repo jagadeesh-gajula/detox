{
 "cells": [
  {
   "cell_type": "code",
   "execution_count": 2,
   "metadata": {
    "collapsed": true
   },
   "outputs": [],
   "source": [
    "#importing all the libaries\n",
    "import requests\n",
    "from bs4 import BeautifulSoup\n",
    "from pprint import PrettyPrinter\n",
    "import pandas as pd\n"
   ]
  },
  {
   "cell_type": "code",
   "execution_count": 3,
   "metadata": {
    "collapsed": false
   },
   "outputs": [],
   "source": [
    "#importing all the datasets required for application\n",
    "data=requests.get('http://facebook.com')\n",
    "data=data.text\n",
    "data=BeautifulSoup(data,'lxml')\n",
    "\n",
    "df=pd.read_csv('hist_data.csv',encoding = \"cp1252\")"
   ]
  },
  {
   "cell_type": "code",
   "execution_count": 6,
   "metadata": {
    "collapsed": false
   },
   "outputs": [
    {
     "name": "stdout",
     "output_type": "stream",
     "text": [
      "Search\n",
      "Images\n",
      "Maps\n",
      "Play\n",
      "YouTube\n",
      "Gmail\n",
      "Drive\n",
      "Calendar\n",
      "\n",
      "Sign___in\n",
      "Privacy\n",
      "Terms\n",
      "Programme___Policy\n",
      "\n",
      "\n",
      "\n",
      "\n",
      "Download___Hangouts___Dialler___on___the___Play___Store\n"
     ]
    }
   ],
   "source": [
    "import os\n",
    "\n",
    "#ths clean function will remove all the noncense from the data\n",
    "# how ever we need to process NLTK before fed into model\n",
    "def clean(url):\n",
    "        data=requests.get(str(url))\n",
    "        data=data.text\n",
    "        data=BeautifulSoup(data,'lxml')\n",
    "        string=data.find_all('a')\n",
    "        string=str(string)\n",
    "        string=string.split(',')\n",
    "        for i in string:\n",
    "            word=i.find('>')\n",
    "            cleaned=i[word+1:]\n",
    "            cleaned=cleaned.replace(\" \",\"___\")\n",
    "            end=cleaned.find('<')\n",
    "            print(cleaned[:end])\n",
    "            os.system('cls')\n",
    "        \n",
    "        \n",
    "clean('http://hangouts.google.com')"
   ]
  }
 ],
 "metadata": {
  "anaconda-cloud": {},
  "kernelspec": {
   "display_name": "Python [conda root]",
   "language": "python",
   "name": "conda-root-py"
  },
  "language_info": {
   "codemirror_mode": {
    "name": "ipython",
    "version": 3
   },
   "file_extension": ".py",
   "mimetype": "text/x-python",
   "name": "python",
   "nbconvert_exporter": "python",
   "pygments_lexer": "ipython3",
   "version": "3.5.2"
  }
 },
 "nbformat": 4,
 "nbformat_minor": 1
}
