{
 "cells": [
  {
   "cell_type": "markdown",
   "metadata": {},
   "source": [
    "## This code will generate CSV file containing history data"
   ]
  },
  {
   "cell_type": "code",
   "execution_count": 156,
   "metadata": {
    "collapsed": false
   },
   "outputs": [],
   "source": [
    "#Good code is its own documentation\n",
    "#importing all the librarires needed \n",
    "import browserhistory as bh\n",
    "import pandas as pd\n",
    "import numpy as np"
   ]
  },
  {
   "cell_type": "code",
   "execution_count": 160,
   "metadata": {
    "collapsed": false
   },
   "outputs": [],
   "source": [
    "# This method maps url into clean home urls \n",
    "def mapinto(link):\n",
    "    link=str(link)\n",
    "    linklen=len(link)\n",
    "    begin=link.find('h',0,linklen)\n",
    "    end=link.find('/',begin+10,linklen)\n",
    "    homeurl=link[begin:end]\n",
    "    return homeurl\n",
    "\n",
    "# this cleanses date and time for dataset\n",
    "timer=[]\n",
    "def datecleaner(value):\n",
    "    value=str(value)\n",
    "    value=value.split()\n",
    "    timer.append(value)\n",
    "    return \n",
    "\n",
    "#this is the root function of all calling this function will genarate the dataset\n",
    "def developdata(df):\n",
    "    links=df.iloc[:,[0]].apply(mapinto,axis=1)\n",
    "    df=pd.concat([links,df],axis=1)\n",
    "    x=df.iloc[:,[3]].apply(datecleaner,axis=1)\n",
    "    del(x,links)\n",
    "    datentime=pd.DataFrame(timer)\n",
    "    datentime=datentime.iloc[:,[1,2]]\n",
    "    datentime.shape\n",
    "    df=pd.concat([df,datentime],axis=1)\n",
    "    df=df.fillna(value=np.nan)\n",
    "    df=df.drop(['url specific','datentime'],axis=1)\n",
    "    df.columns=['home_urls','desc','date','time']\n",
    "    return df\n",
    "\n",
    "# this is main function intiatiates process and exports data\n",
    "def initdetox(history):\n",
    "    keys=history.keys()\n",
    "    browsercount=0\n",
    "    for key in keys:\n",
    "        df=pd.DataFrame(history[key],columns={'url specific','description','datentime'})\n",
    "        if browsercount==0:\n",
    "            dataset=developdata(df)\n",
    "        else:\n",
    "            data=developdata(df)\n",
    "            dataset=pd.concat([dataset,data],axis=0)\n",
    "        browsercount+=1\n",
    "    dataset=dataset[dataset.home_urls.notnull()]   \n",
    "    return dataset\n",
    "\n",
    "history=bh.get_browserhistory()\n",
    "gen=initdetox(history)"
   ]
  },
  {
   "cell_type": "code",
   "execution_count": 163,
   "metadata": {
    "collapsed": false
   },
   "outputs": [],
   "source": [
    "#throws back dataset\n",
    "gen.to_csv('hist_data.csv')"
   ]
  }
 ],
 "metadata": {
  "anaconda-cloud": {},
  "kernelspec": {
   "display_name": "Python [conda root]",
   "language": "python",
   "name": "conda-root-py"
  },
  "language_info": {
   "codemirror_mode": {
    "name": "ipython",
    "version": 3
   },
   "file_extension": ".py",
   "mimetype": "text/x-python",
   "name": "python",
   "nbconvert_exporter": "python",
   "pygments_lexer": "ipython3",
   "version": "3.5.2"
  }
 },
 "nbformat": 4,
 "nbformat_minor": 1
}
