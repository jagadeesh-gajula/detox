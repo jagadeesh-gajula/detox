{
 "cells": [
  {
   "cell_type": "code",
   "execution_count": 10,
   "metadata": {
    "collapsed": false
   },
   "outputs": [],
   "source": [
    "import pandas as pd\n",
    "import numpy as np\n",
    "import requests\n",
    "from keras.models import load_model\n",
    "from keras.preprocessing import image\n",
    "import pymysql as sql\n",
    "from selenium import webdriver\n",
    "from PIL import Image\n",
    "import os\n",
    "import re\n",
    "\n",
    "\n",
    "model = load_model('nsfw.h5')\n",
    "model.compile(optimizer = 'adam', loss = 'binary_crossentropy', metrics = ['accuracy'])\n",
    "os.system('cls')\n",
    "\n",
    "def urlpredict(i):\n",
    "            BASE = 'https://render-tron.appspot.com/screenshot/'\n",
    "            path = 'target.jpg'\n",
    "            response = requests.get(BASE + i, stream=True)\n",
    "            if response.status_code != 200:\n",
    "                selfie(i)\n",
    "            if response.status_code == 200:\n",
    "                with open(path, 'wb') as file:\n",
    "                    for chunk in response:\n",
    "                        file.write(chunk)\n",
    "            test_image = image.load_img('target.jpg', target_size = (64, 64)) \n",
    "            test_image = image.img_to_array(test_image)\n",
    "            test_image = np.expand_dims(test_image, axis = 0)\n",
    "            result = model.predict(test_image)\n",
    "            categories=['safe','not safe']\n",
    "            status=categories[int(result[0][0])]\n",
    "            return status"
   ]
  },
  {
   "cell_type": "code",
   "execution_count": 12,
   "metadata": {
    "collapsed": false
   },
   "outputs": [
    {
     "data": {
      "text/plain": [
       "'safe'"
      ]
     },
     "execution_count": 12,
     "metadata": {},
     "output_type": "execute_result"
    }
   ],
   "source": [
    "urlpredict(\"https://google.com\")"
   ]
  }
 ],
 "metadata": {
  "anaconda-cloud": {},
  "kernelspec": {
   "display_name": "Python [conda root]",
   "language": "python",
   "name": "conda-root-py"
  },
  "language_info": {
   "codemirror_mode": {
    "name": "ipython",
    "version": 3
   },
   "file_extension": ".py",
   "mimetype": "text/x-python",
   "name": "python",
   "nbconvert_exporter": "python",
   "pygments_lexer": "ipython3",
   "version": "3.5.2"
  }
 },
 "nbformat": 4,
 "nbformat_minor": 1
}
