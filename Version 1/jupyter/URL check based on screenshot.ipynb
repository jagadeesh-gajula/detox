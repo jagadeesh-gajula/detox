{
 "cells": [
  {
   "cell_type": "markdown",
   "metadata": {},
   "source": [
    "## Analysis with Display"
   ]
  },
  {
   "cell_type": "code",
   "execution_count": null,
   "metadata": {
    "collapsed": false
   },
   "outputs": [],
   "source": [
    "import pandas as pd\n",
    "import numpy as np\n",
    "import requests\n",
    "from keras.models import load_model\n",
    "from keras.preprocessing import image\n",
    "import pymysql as sql\n",
    "from selenium import webdriver\n",
    "from PIL import Image\n",
    "import os\n",
    "import re"
   ]
  },
  {
   "cell_type": "code",
   "execution_count": null,
   "metadata": {
    "collapsed": false
   },
   "outputs": [],
   "source": [
    "df=pd.read_csv('hist_data.csv', encoding=\"cp1252\")\n",
    "model = load_model('nsfw.h5')\n",
    "model.compile(optimizer = 'adam', loss = 'binary_crossentropy', metrics = ['accuracy'])\n",
    "os.system('cls')"
   ]
  },
  {
   "cell_type": "code",
   "execution_count": null,
   "metadata": {
    "collapsed": false
   },
   "outputs": [],
   "source": [
    "def rateurl(i):\n",
    "            BASE = 'https://render-tron.appspot.com/screenshot/'\n",
    "            path = 'target.jpg'\n",
    "            response = requests.get(BASE + i, stream=True)\n",
    "            if response.status_code != 200:\n",
    "                selfie(i)\n",
    "            if response.status_code == 200:\n",
    "                with open(path, 'wb') as file:\n",
    "                    for chunk in response:\n",
    "                        file.write(chunk)\n",
    "            test_image = image.load_img('target.jpg', target_size = (64, 64)) \n",
    "            test_image = image.img_to_array(test_image)\n",
    "            test_image = np.expand_dims(test_image, axis = 0)\n",
    "            result = model.predict(test_image)\n",
    "            categories=['safe','not safe']\n",
    "            status=categories[int(result[0][0])]\n",
    "            return status\n",
    "\n",
    "        \n",
    "def selfie(url):\n",
    "    DRIVER = 'chromedriver'\n",
    "    driver = webdriver.Chrome(DRIVER)\n",
    "    valid=re.match(regex,url) is not None\n",
    "    driver.get(url)\n",
    "    screenshot = driver.save_screenshot('target.png')\n",
    "    driver.quit()\n",
    "    im = Image.open(\"target.png\")\n",
    "    rgb_im = im.convert('RGB')\n",
    "    rgb_im.save('colors.jpg')"
   ]
  },
  {
   "cell_type": "code",
   "execution_count": null,
   "metadata": {
    "collapsed": false
   },
   "outputs": [],
   "source": [
    "def statuscheck(url):\n",
    "    c=sql.connect(host=\"localhost\",user=\"root\",password=\"\",db=\"urls\")\n",
    "    connection=c.cursor()\n",
    "    command=\"SELECT status FROM urls.url_status where name='\"+ url +\"';\"\n",
    "    connection.execute(command)\n",
    "    retrived=connection.fetchall()\n",
    "    return retrived\n",
    "\n",
    "def urlinsert(url):\n",
    "    c=sql.connect(host=\"localhost\",user=\"root\",password=\"\",db=\"urls\")\n",
    "    connection=c.cursor()\n",
    "    status=rateurl(url)\n",
    "    if len(url) > 255:\n",
    "        print(url)\n",
    "    command=\"insert into urls.url_status values('\" +url+ \"','\" +status+ \"');\"\n",
    "    connection.execute(command)\n",
    "    return status"
   ]
  },
  {
   "cell_type": "code",
   "execution_count": null,
   "metadata": {
    "collapsed": false
   },
   "outputs": [],
   "source": [
    "def sync(url):\n",
    "    status=statuscheck(url)\n",
    "    if len(status)!=0:\n",
    "        return status\n",
    "    else:\n",
    "        return urlinsert(url)"
   ]
  },
  {
   "cell_type": "code",
   "execution_count": null,
   "metadata": {
    "collapsed": false
   },
   "outputs": [],
   "source": [
    "def result(url):\n",
    "    status=str(url)\n",
    "    status=status.split()\n",
    "    status=status[0]\n",
    "    status=sync(status)\n",
    "    if type(status)==str:\n",
    "        return status\n",
    "    if type(status)==tuple:\n",
    "        return status[0][0]"
   ]
  },
  {
   "cell_type": "code",
   "execution_count": null,
   "metadata": {
    "collapsed": false
   },
   "outputs": [],
   "source": [
    "for i in range(100):\n",
    "    print(i,result(df.iloc[[i],[0]].values[0][0]))\n",
    "\n",
    "\n"
   ]
  },
  {
   "cell_type": "code",
   "execution_count": null,
   "metadata": {
    "collapsed": false
   },
   "outputs": [],
   "source": [
    "dataframe=pd.DataFrame(urlscan)\n",
    "dataframe"
   ]
  }
 ],
 "metadata": {
  "anaconda-cloud": {},
  "kernelspec": {
   "display_name": "Python [conda root]",
   "language": "python",
   "name": "conda-root-py"
  },
  "language_info": {
   "codemirror_mode": {
    "name": "ipython",
    "version": 3
   },
   "file_extension": ".py",
   "mimetype": "text/x-python",
   "name": "python",
   "nbconvert_exporter": "python",
   "pygments_lexer": "ipython3",
   "version": "3.5.2"
  }
 },
 "nbformat": 4,
 "nbformat_minor": 1
}
